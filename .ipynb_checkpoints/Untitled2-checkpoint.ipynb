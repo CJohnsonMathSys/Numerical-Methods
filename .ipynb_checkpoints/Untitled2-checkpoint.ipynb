{
 "cells": [
  {
   "cell_type": "code",
   "execution_count": null,
   "metadata": {
    "collapsed": true
   },
   "outputs": [],
   "source": []
  },
  {
   "cell_type": "code",
   "execution_count": 18,
   "metadata": {},
   "outputs": [
    {
     "name": "stderr",
     "output_type": "stream",
     "text": [
      "\u001b[1m\u001b[34mINFO: Nothing to be done\n",
      "\u001b[0m\u001b[1m\u001b[34mINFO: Nothing to be done\n",
      "\u001b[0m"
     ]
    }
   ],
   "source": [
    "Pkg.add(\"MbedTLS\")\n",
    "Pkg.add(\"Requests\")\n",
    "#Pkg.update()\n",
    "#Pkg.build(\"MbedTLS\")\n",
    "using Requests\n",
    "\n"
   ]
  },
  {
   "cell_type": "code",
   "execution_count": 22,
   "metadata": {},
   "outputs": [
    {
     "name": "stdout",
     "output_type": "stream",
     "text": [
      "{\n",
      "   \"destination_addresses\" : [ \"San Francisco, CA, USA\", \"Victoria, BC, Canada\" ],\n",
      "   \"origin_addresses\" : [ \"Vancouver, BC, Canada\", \"Seattle, WA, USA\" ],\n",
      "   \"rows\" : [\n",
      "      {\n",
      "         \"elements\" : [\n",
      "            {\n",
      "               \"distance\" : {\n",
      "                  \"text\" : \"1,528 km\",\n",
      "                  \"value\" : 1528280\n",
      "               },\n",
      "               \"duration\" : {\n",
      "                  \"text\" : \"14 hours 52 mins\",\n",
      "                  \"value\" : 53540\n",
      "               },\n",
      "               \"status\" : \"OK\"\n",
      "            },\n",
      "            {\n",
      "               \"distance\" : {\n",
      "                  \"text\" : \"114 km\",\n",
      "                  \"value\" : 114160\n",
      "               },\n",
      "               \"duration\" : {\n",
      "                  \"text\" : \"3 hours 14 mins\",\n",
      "                  \"value\" : 11625\n",
      "               },\n",
      "               \"status\" : \"OK\"\n",
      "            }\n",
      "         ]\n",
      "      },\n",
      "      {\n",
      "         \"elements\" : [\n",
      "            {\n",
      "               \"distance\" : {\n",
      "                  \"text\" : \"1,300 km\",\n",
      "                  \"value\" : 1299881\n",
      "               },\n",
      "               \"duration\" : {\n",
      "                  \"text\" : \"12 hours 25 mins\",\n",
      "                  \"value\" : 44720\n",
      "               },\n",
      "               \"status\" : \"OK\"\n",
      "            },\n",
      "            {\n",
      "               \"distance\" : {\n",
      "                  \"text\" : \"172 km\",\n",
      "                  \"value\" : 172040\n",
      "               },\n",
      "               \"duration\" : {\n",
      "                  \"text\" : \"4 hours 44 mins\",\n",
      "                  \"value\" : 17044\n",
      "               },\n",
      "               \"status\" : \"OK\"\n",
      "            }\n",
      "         ]\n",
      "      }\n",
      "   ],\n",
      "   \"status\" : \"OK\"\n",
      "}\n",
      "\n"
     ]
    }
   ],
   "source": [
    "response=get(\"https://maps.googleapis.com/maps/api/distancematrix/json?origins=Vancouver+BC|Seattle&destinations=San+Francisco|Victoria+BC\")\n",
    "\n",
    "\n",
    "stringData=Requests.readstring(response)\n",
    "\n",
    "println(stringData)"
   ]
  }
 ],
 "metadata": {
  "kernelspec": {
   "display_name": "Julia 0.4.5",
   "language": "julia",
   "name": "julia-0.4"
  },
  "language_info": {
   "file_extension": ".jl",
   "mimetype": "application/julia",
   "name": "julia",
   "version": "0.4.5"
  }
 },
 "nbformat": 4,
 "nbformat_minor": 2
}
